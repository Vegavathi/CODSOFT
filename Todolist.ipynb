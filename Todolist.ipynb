{
 "cells": [
  {
   "cell_type": "code",
   "execution_count": 1,
   "id": "f56b62b9-941c-4db5-8500-e86a13f42864",
   "metadata": {},
   "outputs": [
    {
     "name": "stdout",
     "output_type": "stream",
     "text": [
      "\n",
      "TODO LIST MENU:\n",
      "1. Add Task\n",
      "2. Remove Task\n",
      "3. Display Tasks\n",
      "4. Quit\n"
     ]
    },
    {
     "name": "stdin",
     "output_type": "stream",
     "text": [
      "Enter your choice (1/2/3/4):  1\n",
      "Enter task to add:  Drink water\n"
     ]
    },
    {
     "name": "stdout",
     "output_type": "stream",
     "text": [
      "Task 'Drink water' added.\n",
      "\n",
      "TODO LIST MENU:\n",
      "1. Add Task\n",
      "2. Remove Task\n",
      "3. Display Tasks\n",
      "4. Quit\n"
     ]
    },
    {
     "name": "stdin",
     "output_type": "stream",
     "text": [
      "Enter your choice (1/2/3/4):  1\n",
      "Enter task to add:  Walking\n"
     ]
    },
    {
     "name": "stdout",
     "output_type": "stream",
     "text": [
      "Task 'Walking' added.\n",
      "\n",
      "TODO LIST MENU:\n",
      "1. Add Task\n",
      "2. Remove Task\n",
      "3. Display Tasks\n",
      "4. Quit\n"
     ]
    },
    {
     "name": "stdin",
     "output_type": "stream",
     "text": [
      "Enter your choice (1/2/3/4):  3\n"
     ]
    },
    {
     "name": "stdout",
     "output_type": "stream",
     "text": [
      "Tasks:\n",
      "1. Drink water\n",
      "2. Walking\n",
      "\n",
      "TODO LIST MENU:\n",
      "1. Add Task\n",
      "2. Remove Task\n",
      "3. Display Tasks\n",
      "4. Quit\n"
     ]
    },
    {
     "name": "stdin",
     "output_type": "stream",
     "text": [
      "Enter your choice (1/2/3/4):  3\n"
     ]
    },
    {
     "name": "stdout",
     "output_type": "stream",
     "text": [
      "Tasks:\n",
      "1. Drink water\n",
      "2. Walking\n",
      "\n",
      "TODO LIST MENU:\n",
      "1. Add Task\n",
      "2. Remove Task\n",
      "3. Display Tasks\n",
      "4. Quit\n"
     ]
    },
    {
     "name": "stdin",
     "output_type": "stream",
     "text": [
      "Enter your choice (1/2/3/4):  2\n",
      "Enter task to remove:  Drink water\n"
     ]
    },
    {
     "name": "stdout",
     "output_type": "stream",
     "text": [
      "Task 'Drink water' removed.\n",
      "\n",
      "TODO LIST MENU:\n",
      "1. Add Task\n",
      "2. Remove Task\n",
      "3. Display Tasks\n",
      "4. Quit\n"
     ]
    },
    {
     "name": "stdin",
     "output_type": "stream",
     "text": [
      "Enter your choice (1/2/3/4):  4\n"
     ]
    },
    {
     "name": "stdout",
     "output_type": "stream",
     "text": [
      "Exiting the program.\n"
     ]
    }
   ],
   "source": [
    "                                       #ToDo List Application\n",
    "class TodoList:\n",
    "    def __init__(self):\n",
    "        self.tasks = []\n",
    "\n",
    "    def add_task(self, task):\n",
    "        self.tasks.append(task)\n",
    "        print(f\"Task '{task}' added.\")\n",
    "\n",
    "    def remove_task(self, task):\n",
    "        if task in self.tasks:\n",
    "            self.tasks.remove(task)\n",
    "            print(f\"Task '{task}' removed.\")\n",
    "        else:\n",
    "            print(f\"Task '{task}' not found.\")\n",
    "\n",
    "    def display_tasks(self):\n",
    "        if self.tasks:\n",
    "            print(\"Tasks:\")\n",
    "            for idx, task in enumerate(self.tasks, start=1):\n",
    "                print(f\"{idx}. {task}\")\n",
    "        else:\n",
    "            print(\"No tasks in the list.\")\n",
    "\n",
    "def main():\n",
    "    todo_list = TodoList()\n",
    "\n",
    "    while True:\n",
    "        print(\"\\nTODO LIST MENU:\")\n",
    "        print(\"1. Add Task\")\n",
    "        print(\"2. Remove Task\")\n",
    "        print(\"3. Display Tasks\")\n",
    "        print(\"4. Quit\")\n",
    "\n",
    "        choice = input(\"Enter your choice (1/2/3/4): \")\n",
    "\n",
    "        if choice == '1':\n",
    "            task = input(\"Enter task to add: \")\n",
    "            todo_list.add_task(task)\n",
    "        elif choice == '2':\n",
    "            task = input(\"Enter task to remove: \")\n",
    "            todo_list.remove_task(task)\n",
    "        elif choice == '3':\n",
    "            todo_list.display_tasks()\n",
    "        elif choice == '4':\n",
    "            print(\"Exiting the program.\")\n",
    "            break\n",
    "        else:\n",
    "            print(\"Invalid choice. Please enter a number between 1 and 4.\")\n",
    "\n",
    "if __name__ == \"__main__\":\n",
    "    main()"
   ]
  },
  {
   "cell_type": "code",
   "execution_count": null,
   "id": "4ba161fb-55b3-4907-ac84-60ce64f91117",
   "metadata": {},
   "outputs": [],
   "source": []
  }
 ],
 "metadata": {
  "kernelspec": {
   "display_name": "Python 3 (ipykernel)",
   "language": "python",
   "name": "python3"
  },
  "language_info": {
   "codemirror_mode": {
    "name": "ipython",
    "version": 3
   },
   "file_extension": ".py",
   "mimetype": "text/x-python",
   "name": "python",
   "nbconvert_exporter": "python",
   "pygments_lexer": "ipython3",
   "version": "3.12.2"
  }
 },
 "nbformat": 4,
 "nbformat_minor": 5
}
